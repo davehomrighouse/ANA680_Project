{
  "nbformat": 4,
  "nbformat_minor": 0,
  "metadata": {
    "colab": {
      "provenance": []
    },
    "kernelspec": {
      "name": "python3",
      "display_name": "Python 3"
    },
    "language_info": {
      "name": "python"
    }
  },
  "cells": [
    {
      "cell_type": "markdown",
      "source": [
        "# *Prompt for file and load data*"
      ],
      "metadata": {
        "id": "6XCBYU6FlVij"
      }
    },
    {
      "cell_type": "code",
      "source": [
        "from google.colab import files\n",
        "import io\n",
        "\n",
        "uploaded = files.upload()"
      ],
      "metadata": {
        "colab": {
          "base_uri": "https://localhost:8080/",
          "height": 72
        },
        "id": "0jHvyojUq_06",
        "outputId": "e0b3f5cc-42a8-4ced-afb1-9c23f025d71b"
      },
      "execution_count": null,
      "outputs": [
        {
          "output_type": "display_data",
          "data": {
            "text/plain": [
              "<IPython.core.display.HTML object>"
            ],
            "text/html": [
              "\n",
              "     <input type=\"file\" id=\"files-900f714a-39c2-425b-b41e-9f22e0b635a4\" name=\"files[]\" multiple disabled\n",
              "        style=\"border:none\" />\n",
              "     <output id=\"result-900f714a-39c2-425b-b41e-9f22e0b635a4\">\n",
              "      Upload widget is only available when the cell has been executed in the\n",
              "      current browser session. Please rerun this cell to enable.\n",
              "      </output>\n",
              "      <script>// Copyright 2017 Google LLC\n",
              "//\n",
              "// Licensed under the Apache License, Version 2.0 (the \"License\");\n",
              "// you may not use this file except in compliance with the License.\n",
              "// You may obtain a copy of the License at\n",
              "//\n",
              "//      http://www.apache.org/licenses/LICENSE-2.0\n",
              "//\n",
              "// Unless required by applicable law or agreed to in writing, software\n",
              "// distributed under the License is distributed on an \"AS IS\" BASIS,\n",
              "// WITHOUT WARRANTIES OR CONDITIONS OF ANY KIND, either express or implied.\n",
              "// See the License for the specific language governing permissions and\n",
              "// limitations under the License.\n",
              "\n",
              "/**\n",
              " * @fileoverview Helpers for google.colab Python module.\n",
              " */\n",
              "(function(scope) {\n",
              "function span(text, styleAttributes = {}) {\n",
              "  const element = document.createElement('span');\n",
              "  element.textContent = text;\n",
              "  for (const key of Object.keys(styleAttributes)) {\n",
              "    element.style[key] = styleAttributes[key];\n",
              "  }\n",
              "  return element;\n",
              "}\n",
              "\n",
              "// Max number of bytes which will be uploaded at a time.\n",
              "const MAX_PAYLOAD_SIZE = 100 * 1024;\n",
              "\n",
              "function _uploadFiles(inputId, outputId) {\n",
              "  const steps = uploadFilesStep(inputId, outputId);\n",
              "  const outputElement = document.getElementById(outputId);\n",
              "  // Cache steps on the outputElement to make it available for the next call\n",
              "  // to uploadFilesContinue from Python.\n",
              "  outputElement.steps = steps;\n",
              "\n",
              "  return _uploadFilesContinue(outputId);\n",
              "}\n",
              "\n",
              "// This is roughly an async generator (not supported in the browser yet),\n",
              "// where there are multiple asynchronous steps and the Python side is going\n",
              "// to poll for completion of each step.\n",
              "// This uses a Promise to block the python side on completion of each step,\n",
              "// then passes the result of the previous step as the input to the next step.\n",
              "function _uploadFilesContinue(outputId) {\n",
              "  const outputElement = document.getElementById(outputId);\n",
              "  const steps = outputElement.steps;\n",
              "\n",
              "  const next = steps.next(outputElement.lastPromiseValue);\n",
              "  return Promise.resolve(next.value.promise).then((value) => {\n",
              "    // Cache the last promise value to make it available to the next\n",
              "    // step of the generator.\n",
              "    outputElement.lastPromiseValue = value;\n",
              "    return next.value.response;\n",
              "  });\n",
              "}\n",
              "\n",
              "/**\n",
              " * Generator function which is called between each async step of the upload\n",
              " * process.\n",
              " * @param {string} inputId Element ID of the input file picker element.\n",
              " * @param {string} outputId Element ID of the output display.\n",
              " * @return {!Iterable<!Object>} Iterable of next steps.\n",
              " */\n",
              "function* uploadFilesStep(inputId, outputId) {\n",
              "  const inputElement = document.getElementById(inputId);\n",
              "  inputElement.disabled = false;\n",
              "\n",
              "  const outputElement = document.getElementById(outputId);\n",
              "  outputElement.innerHTML = '';\n",
              "\n",
              "  const pickedPromise = new Promise((resolve) => {\n",
              "    inputElement.addEventListener('change', (e) => {\n",
              "      resolve(e.target.files);\n",
              "    });\n",
              "  });\n",
              "\n",
              "  const cancel = document.createElement('button');\n",
              "  inputElement.parentElement.appendChild(cancel);\n",
              "  cancel.textContent = 'Cancel upload';\n",
              "  const cancelPromise = new Promise((resolve) => {\n",
              "    cancel.onclick = () => {\n",
              "      resolve(null);\n",
              "    };\n",
              "  });\n",
              "\n",
              "  // Wait for the user to pick the files.\n",
              "  const files = yield {\n",
              "    promise: Promise.race([pickedPromise, cancelPromise]),\n",
              "    response: {\n",
              "      action: 'starting',\n",
              "    }\n",
              "  };\n",
              "\n",
              "  cancel.remove();\n",
              "\n",
              "  // Disable the input element since further picks are not allowed.\n",
              "  inputElement.disabled = true;\n",
              "\n",
              "  if (!files) {\n",
              "    return {\n",
              "      response: {\n",
              "        action: 'complete',\n",
              "      }\n",
              "    };\n",
              "  }\n",
              "\n",
              "  for (const file of files) {\n",
              "    const li = document.createElement('li');\n",
              "    li.append(span(file.name, {fontWeight: 'bold'}));\n",
              "    li.append(span(\n",
              "        `(${file.type || 'n/a'}) - ${file.size} bytes, ` +\n",
              "        `last modified: ${\n",
              "            file.lastModifiedDate ? file.lastModifiedDate.toLocaleDateString() :\n",
              "                                    'n/a'} - `));\n",
              "    const percent = span('0% done');\n",
              "    li.appendChild(percent);\n",
              "\n",
              "    outputElement.appendChild(li);\n",
              "\n",
              "    const fileDataPromise = new Promise((resolve) => {\n",
              "      const reader = new FileReader();\n",
              "      reader.onload = (e) => {\n",
              "        resolve(e.target.result);\n",
              "      };\n",
              "      reader.readAsArrayBuffer(file);\n",
              "    });\n",
              "    // Wait for the data to be ready.\n",
              "    let fileData = yield {\n",
              "      promise: fileDataPromise,\n",
              "      response: {\n",
              "        action: 'continue',\n",
              "      }\n",
              "    };\n",
              "\n",
              "    // Use a chunked sending to avoid message size limits. See b/62115660.\n",
              "    let position = 0;\n",
              "    do {\n",
              "      const length = Math.min(fileData.byteLength - position, MAX_PAYLOAD_SIZE);\n",
              "      const chunk = new Uint8Array(fileData, position, length);\n",
              "      position += length;\n",
              "\n",
              "      const base64 = btoa(String.fromCharCode.apply(null, chunk));\n",
              "      yield {\n",
              "        response: {\n",
              "          action: 'append',\n",
              "          file: file.name,\n",
              "          data: base64,\n",
              "        },\n",
              "      };\n",
              "\n",
              "      let percentDone = fileData.byteLength === 0 ?\n",
              "          100 :\n",
              "          Math.round((position / fileData.byteLength) * 100);\n",
              "      percent.textContent = `${percentDone}% done`;\n",
              "\n",
              "    } while (position < fileData.byteLength);\n",
              "  }\n",
              "\n",
              "  // All done.\n",
              "  yield {\n",
              "    response: {\n",
              "      action: 'complete',\n",
              "    }\n",
              "  };\n",
              "}\n",
              "\n",
              "scope.google = scope.google || {};\n",
              "scope.google.colab = scope.google.colab || {};\n",
              "scope.google.colab._files = {\n",
              "  _uploadFiles,\n",
              "  _uploadFilesContinue,\n",
              "};\n",
              "})(self);\n",
              "</script> "
            ]
          },
          "metadata": {}
        },
        {
          "output_type": "stream",
          "name": "stdout",
          "text": [
            "Saving spambase.data to spambase (1).data\n"
          ]
        }
      ]
    },
    {
      "cell_type": "markdown",
      "source": [
        "# *Load data*"
      ],
      "metadata": {
        "id": "fP19s1ozOydz"
      }
    },
    {
      "cell_type": "code",
      "source": [
        "import pandas as pd\n",
        "\n",
        "# Extract filename\n",
        "filename = list(uploaded.keys())[0]\n",
        "\n",
        "#    Load CSV from either:\n",
        "#      - a filename (string path)\n",
        "#      - an uploaded file from Colab's files.upload() dict\n",
        "#      - a Flask file object (from request.files)\n",
        "\n",
        "if isinstance(uploaded[filename], str):\n",
        "  # Assume it's a file path\n",
        "  df = pd.read_csv(uploaded[filename], sep=\",\", header=None)\n",
        "elif hasattr(uploaded[filename], 'read'):\n",
        "  # Flask's file object or BytesIO\n",
        "  df = pd.read_csv(io.BytesIO(uploaded[filename].read()), sep=\",\", header=None)\n",
        "elif isinstance(uploaded[filename], bytes):\n",
        "  # Bytes directly (Colab uploaded dict value)\n",
        "  df = pd.read_csv(io.BytesIO(uploaded[filename]), sep=\",\", header=None)\n",
        "else:\n",
        "  raise ValueError(\"Unsupported file source type.\")\n",
        "\n",
        "print(df.head())\n"
      ],
      "metadata": {
        "id": "LTHBC1ZLlZMH",
        "colab": {
          "base_uri": "https://localhost:8080/"
        },
        "outputId": "41ebbd26-46e8-4865-be4c-8c463c76245c"
      },
      "execution_count": null,
      "outputs": [
        {
          "output_type": "stream",
          "name": "stdout",
          "text": [
            "     0     1     2    3     4     5     6     7     8     9   ...    48  \\\n",
            "0  0.00  0.64  0.64  0.0  0.32  0.00  0.00  0.00  0.00  0.00  ...  0.00   \n",
            "1  0.21  0.28  0.50  0.0  0.14  0.28  0.21  0.07  0.00  0.94  ...  0.00   \n",
            "2  0.06  0.00  0.71  0.0  1.23  0.19  0.19  0.12  0.64  0.25  ...  0.01   \n",
            "3  0.00  0.00  0.00  0.0  0.63  0.00  0.31  0.63  0.31  0.63  ...  0.00   \n",
            "4  0.00  0.00  0.00  0.0  0.63  0.00  0.31  0.63  0.31  0.63  ...  0.00   \n",
            "\n",
            "      49   50     51     52     53     54   55    56  57  \n",
            "0  0.000  0.0  0.778  0.000  0.000  3.756   61   278   1  \n",
            "1  0.132  0.0  0.372  0.180  0.048  5.114  101  1028   1  \n",
            "2  0.143  0.0  0.276  0.184  0.010  9.821  485  2259   1  \n",
            "3  0.137  0.0  0.137  0.000  0.000  3.537   40   191   1  \n",
            "4  0.135  0.0  0.135  0.000  0.000  3.537   40   191   1  \n",
            "\n",
            "[5 rows x 58 columns]\n"
          ]
        }
      ]
    },
    {
      "cell_type": "markdown",
      "source": [
        "# *Read in header names. Each row contains a name*"
      ],
      "metadata": {
        "id": "UQ7_YTgHUFpO"
      }
    },
    {
      "cell_type": "code",
      "source": [
        "names_uploaded = files.upload()\n",
        "\n",
        "# Extract filename\n",
        "header_filename = list(names_uploaded.keys())[0]\n",
        "\n",
        "#    Load CSV from either:\n",
        "#      - a filename (string path)\n",
        "#      - an uploaded file from Colab's files.upload() dict\n",
        "#      - a Flask file object (from request.files)\n",
        "\n",
        "if isinstance(names_uploaded[header_filename], str):\n",
        "  # Assume it's a file path\n",
        "  names_df = pd.read_csv(names_uploaded[header_filename], sep=\":\", header=None)\n",
        "elif hasattr(names_uploaded[header_filename], 'read'):\n",
        "  # Flask's file object or BytesIO\n",
        "  names_df = pd.read_csv(io.BytesIO(names_uploaded[header_filename].read()), sep=\":\", header=None)\n",
        "elif isinstance(names_uploaded[header_filename], bytes):\n",
        "  # Bytes directly (Colab uploaded dict value)\n",
        "  names_df = pd.read_csv(io.BytesIO(names_uploaded[header_filename]), sep=\":\", header=None)\n",
        "else:\n",
        "  raise ValueError(\"Unsupported file source type.\")\n",
        "\n",
        "print(names_df.head())"
      ],
      "metadata": {
        "colab": {
          "base_uri": "https://localhost:8080/",
          "height": 176
        },
        "id": "v6Cc5zlsUPbK",
        "outputId": "e7cc73ff-ecee-4100-c717-ef1a1b78fefa"
      },
      "execution_count": null,
      "outputs": [
        {
          "output_type": "display_data",
          "data": {
            "text/plain": [
              "<IPython.core.display.HTML object>"
            ],
            "text/html": [
              "\n",
              "     <input type=\"file\" id=\"files-c2e81958-80b9-4b41-8d48-c035cd4307cc\" name=\"files[]\" multiple disabled\n",
              "        style=\"border:none\" />\n",
              "     <output id=\"result-c2e81958-80b9-4b41-8d48-c035cd4307cc\">\n",
              "      Upload widget is only available when the cell has been executed in the\n",
              "      current browser session. Please rerun this cell to enable.\n",
              "      </output>\n",
              "      <script>// Copyright 2017 Google LLC\n",
              "//\n",
              "// Licensed under the Apache License, Version 2.0 (the \"License\");\n",
              "// you may not use this file except in compliance with the License.\n",
              "// You may obtain a copy of the License at\n",
              "//\n",
              "//      http://www.apache.org/licenses/LICENSE-2.0\n",
              "//\n",
              "// Unless required by applicable law or agreed to in writing, software\n",
              "// distributed under the License is distributed on an \"AS IS\" BASIS,\n",
              "// WITHOUT WARRANTIES OR CONDITIONS OF ANY KIND, either express or implied.\n",
              "// See the License for the specific language governing permissions and\n",
              "// limitations under the License.\n",
              "\n",
              "/**\n",
              " * @fileoverview Helpers for google.colab Python module.\n",
              " */\n",
              "(function(scope) {\n",
              "function span(text, styleAttributes = {}) {\n",
              "  const element = document.createElement('span');\n",
              "  element.textContent = text;\n",
              "  for (const key of Object.keys(styleAttributes)) {\n",
              "    element.style[key] = styleAttributes[key];\n",
              "  }\n",
              "  return element;\n",
              "}\n",
              "\n",
              "// Max number of bytes which will be uploaded at a time.\n",
              "const MAX_PAYLOAD_SIZE = 100 * 1024;\n",
              "\n",
              "function _uploadFiles(inputId, outputId) {\n",
              "  const steps = uploadFilesStep(inputId, outputId);\n",
              "  const outputElement = document.getElementById(outputId);\n",
              "  // Cache steps on the outputElement to make it available for the next call\n",
              "  // to uploadFilesContinue from Python.\n",
              "  outputElement.steps = steps;\n",
              "\n",
              "  return _uploadFilesContinue(outputId);\n",
              "}\n",
              "\n",
              "// This is roughly an async generator (not supported in the browser yet),\n",
              "// where there are multiple asynchronous steps and the Python side is going\n",
              "// to poll for completion of each step.\n",
              "// This uses a Promise to block the python side on completion of each step,\n",
              "// then passes the result of the previous step as the input to the next step.\n",
              "function _uploadFilesContinue(outputId) {\n",
              "  const outputElement = document.getElementById(outputId);\n",
              "  const steps = outputElement.steps;\n",
              "\n",
              "  const next = steps.next(outputElement.lastPromiseValue);\n",
              "  return Promise.resolve(next.value.promise).then((value) => {\n",
              "    // Cache the last promise value to make it available to the next\n",
              "    // step of the generator.\n",
              "    outputElement.lastPromiseValue = value;\n",
              "    return next.value.response;\n",
              "  });\n",
              "}\n",
              "\n",
              "/**\n",
              " * Generator function which is called between each async step of the upload\n",
              " * process.\n",
              " * @param {string} inputId Element ID of the input file picker element.\n",
              " * @param {string} outputId Element ID of the output display.\n",
              " * @return {!Iterable<!Object>} Iterable of next steps.\n",
              " */\n",
              "function* uploadFilesStep(inputId, outputId) {\n",
              "  const inputElement = document.getElementById(inputId);\n",
              "  inputElement.disabled = false;\n",
              "\n",
              "  const outputElement = document.getElementById(outputId);\n",
              "  outputElement.innerHTML = '';\n",
              "\n",
              "  const pickedPromise = new Promise((resolve) => {\n",
              "    inputElement.addEventListener('change', (e) => {\n",
              "      resolve(e.target.files);\n",
              "    });\n",
              "  });\n",
              "\n",
              "  const cancel = document.createElement('button');\n",
              "  inputElement.parentElement.appendChild(cancel);\n",
              "  cancel.textContent = 'Cancel upload';\n",
              "  const cancelPromise = new Promise((resolve) => {\n",
              "    cancel.onclick = () => {\n",
              "      resolve(null);\n",
              "    };\n",
              "  });\n",
              "\n",
              "  // Wait for the user to pick the files.\n",
              "  const files = yield {\n",
              "    promise: Promise.race([pickedPromise, cancelPromise]),\n",
              "    response: {\n",
              "      action: 'starting',\n",
              "    }\n",
              "  };\n",
              "\n",
              "  cancel.remove();\n",
              "\n",
              "  // Disable the input element since further picks are not allowed.\n",
              "  inputElement.disabled = true;\n",
              "\n",
              "  if (!files) {\n",
              "    return {\n",
              "      response: {\n",
              "        action: 'complete',\n",
              "      }\n",
              "    };\n",
              "  }\n",
              "\n",
              "  for (const file of files) {\n",
              "    const li = document.createElement('li');\n",
              "    li.append(span(file.name, {fontWeight: 'bold'}));\n",
              "    li.append(span(\n",
              "        `(${file.type || 'n/a'}) - ${file.size} bytes, ` +\n",
              "        `last modified: ${\n",
              "            file.lastModifiedDate ? file.lastModifiedDate.toLocaleDateString() :\n",
              "                                    'n/a'} - `));\n",
              "    const percent = span('0% done');\n",
              "    li.appendChild(percent);\n",
              "\n",
              "    outputElement.appendChild(li);\n",
              "\n",
              "    const fileDataPromise = new Promise((resolve) => {\n",
              "      const reader = new FileReader();\n",
              "      reader.onload = (e) => {\n",
              "        resolve(e.target.result);\n",
              "      };\n",
              "      reader.readAsArrayBuffer(file);\n",
              "    });\n",
              "    // Wait for the data to be ready.\n",
              "    let fileData = yield {\n",
              "      promise: fileDataPromise,\n",
              "      response: {\n",
              "        action: 'continue',\n",
              "      }\n",
              "    };\n",
              "\n",
              "    // Use a chunked sending to avoid message size limits. See b/62115660.\n",
              "    let position = 0;\n",
              "    do {\n",
              "      const length = Math.min(fileData.byteLength - position, MAX_PAYLOAD_SIZE);\n",
              "      const chunk = new Uint8Array(fileData, position, length);\n",
              "      position += length;\n",
              "\n",
              "      const base64 = btoa(String.fromCharCode.apply(null, chunk));\n",
              "      yield {\n",
              "        response: {\n",
              "          action: 'append',\n",
              "          file: file.name,\n",
              "          data: base64,\n",
              "        },\n",
              "      };\n",
              "\n",
              "      let percentDone = fileData.byteLength === 0 ?\n",
              "          100 :\n",
              "          Math.round((position / fileData.byteLength) * 100);\n",
              "      percent.textContent = `${percentDone}% done`;\n",
              "\n",
              "    } while (position < fileData.byteLength);\n",
              "  }\n",
              "\n",
              "  // All done.\n",
              "  yield {\n",
              "    response: {\n",
              "      action: 'complete',\n",
              "    }\n",
              "  };\n",
              "}\n",
              "\n",
              "scope.google = scope.google || {};\n",
              "scope.google.colab = scope.google.colab || {};\n",
              "scope.google.colab._files = {\n",
              "  _uploadFiles,\n",
              "  _uploadFilesContinue,\n",
              "};\n",
              "})(self);\n",
              "</script> "
            ]
          },
          "metadata": {}
        },
        {
          "output_type": "stream",
          "name": "stdout",
          "text": [
            "Saving spambase_column_headers.txt to spambase_column_headers (2).txt\n",
            "                   0                       1\n",
            "0     word_freq_make             continuous.\n",
            "1  word_freq_address             continuous.\n",
            "2      word_freq_all             continuous.\n",
            "3       word_freq_3d             continuous.\n",
            "4      word_freq_our             continuous.\n"
          ]
        }
      ]
    },
    {
      "cell_type": "markdown",
      "source": [
        "# *Put the header names on top of the dataset*"
      ],
      "metadata": {
        "id": "DfaXD0Z2XUPp"
      }
    },
    {
      "cell_type": "code",
      "source": [
        "new_headers = names_df.iloc[:, 0].tolist()\n",
        "\n",
        "# Assign the list to your spam dataframe\n",
        "df.columns = new_headers\n",
        "\n",
        "print(df.head())"
      ],
      "metadata": {
        "colab": {
          "base_uri": "https://localhost:8080/"
        },
        "id": "oW4jMq3VYvw4",
        "outputId": "84d4bafd-ecae-40e3-b5e3-75f67f505575"
      },
      "execution_count": null,
      "outputs": [
        {
          "output_type": "stream",
          "name": "stdout",
          "text": [
            "   word_freq_make  word_freq_address  word_freq_all  word_freq_3d  \\\n",
            "0            0.00               0.64           0.64           0.0   \n",
            "1            0.21               0.28           0.50           0.0   \n",
            "2            0.06               0.00           0.71           0.0   \n",
            "3            0.00               0.00           0.00           0.0   \n",
            "4            0.00               0.00           0.00           0.0   \n",
            "\n",
            "   word_freq_our  word_freq_over  word_freq_remove  word_freq_internet  \\\n",
            "0           0.32            0.00              0.00                0.00   \n",
            "1           0.14            0.28              0.21                0.07   \n",
            "2           1.23            0.19              0.19                0.12   \n",
            "3           0.63            0.00              0.31                0.63   \n",
            "4           0.63            0.00              0.31                0.63   \n",
            "\n",
            "   word_freq_order  word_freq_mail  ...  char_freq_;  char_freq_(  \\\n",
            "0             0.00            0.00  ...         0.00        0.000   \n",
            "1             0.00            0.94  ...         0.00        0.132   \n",
            "2             0.64            0.25  ...         0.01        0.143   \n",
            "3             0.31            0.63  ...         0.00        0.137   \n",
            "4             0.31            0.63  ...         0.00        0.135   \n",
            "\n",
            "   char_freq_[  char_freq_!  char_freq_$  char_freq_#  \\\n",
            "0          0.0        0.778        0.000        0.000   \n",
            "1          0.0        0.372        0.180        0.048   \n",
            "2          0.0        0.276        0.184        0.010   \n",
            "3          0.0        0.137        0.000        0.000   \n",
            "4          0.0        0.135        0.000        0.000   \n",
            "\n",
            "   capital_run_length_average  capital_run_length_longest  \\\n",
            "0                       3.756                          61   \n",
            "1                       5.114                         101   \n",
            "2                       9.821                         485   \n",
            "3                       3.537                          40   \n",
            "4                       3.537                          40   \n",
            "\n",
            "   capital_run_length_total  class  \n",
            "0                       278      1  \n",
            "1                      1028      1  \n",
            "2                      2259      1  \n",
            "3                       191      1  \n",
            "4                       191      1  \n",
            "\n",
            "[5 rows x 58 columns]\n"
          ]
        }
      ]
    },
    {
      "cell_type": "markdown",
      "source": [
        "# *Display descriptive statistics, null values, etc*"
      ],
      "metadata": {
        "id": "YaINxJ1TsdkO"
      }
    },
    {
      "cell_type": "code",
      "source": [
        "from sklearn.preprocessing import LabelBinarizer\n",
        "from sklearn.feature_selection import f_classif, mutual_info_classif\n",
        "import numpy as np\n",
        "\n",
        "# 2) Basic dataset stats\n",
        "print(\"=== Dataset shape ===\")\n",
        "print(df.shape)  # (rows, cols)\n",
        "print()\n",
        "\n",
        "print(\"=== Class distribution ===\")\n",
        "counts = df['class'].value_counts()\n",
        "pct = (counts / len(df) * 100).round(2)\n",
        "print(pd.DataFrame({'count': counts, 'percent': pct}))\n",
        "print()\n",
        "\n",
        "print(\"=== Null values ===\")\n",
        "missing = df.isna().sum()\n",
        "print(missing[missing > 0].sort_values(ascending=False) if missing.sum() else \"No missing values\", \"\\n\")\n",
        "\n",
        "print(\"=== Descriptive statistics ===\")\n",
        "print(df.describe())\n",
        "\n",
        "# 4) Skewness (feature distributions)\n",
        "print(\"=== Feature skewness ===\")\n",
        "feature_cols = [c for c in df.columns if c != 'label']\n",
        "skewness = df[feature_cols].skew(numeric_only=True)\n",
        "print(skewness.sort_values(ascending=False).round(4), \"\\n\")\n",
        "\n",
        "# 5) Correlation with target (point-biserial via Pearson with 0/1 label)\n",
        "lb = LabelBinarizer()\n",
        "y_bin = lb.fit_transform(df['class']).ravel()  # 0/1\n",
        "# avoid constant features to prevent NaNs in corr\n",
        "X = df[feature_cols].copy()\n",
        "corrs = {}\n",
        "for col in feature_cols:\n",
        "    x = X[col]\n",
        "    if x.nunique() > 1:\n",
        "        corrs[col] = np.corrcoef(x, y_bin)[0, 1]\n",
        "    else:\n",
        "        corrs[col] = np.nan\n",
        "\n",
        "corrs = pd.Series(corrs, name='point_biserial_corr')\n",
        "print(\"=== Top features correlated with target (absolute) ===\")\n",
        "print(corrs.abs().sort_values(ascending=False).head(15).round(4), \"\\n\")\n",
        "\n",
        "# 6) Inter-feature correlations (to spot redundancy)\n",
        "print(\"=== Strong inter-feature correlations (|r| >= 0.85) ===\")\n",
        "corrmat = X.corr(numeric_only=True)\n",
        "strong_pairs = []\n",
        "threshold = 0.85\n",
        "cols = corrmat.columns\n",
        "for i in range(len(cols)):\n",
        "    for j in range(i+1, len(cols)):\n",
        "        r = corrmat.iloc[i, j]\n",
        "        if pd.notna(r) and abs(r) >= threshold:\n",
        "            strong_pairs.append((cols[i], cols[j], r))\n",
        "if strong_pairs:\n",
        "    strong_pairs = sorted(strong_pairs, key=lambda t: abs(t[2]), reverse=True)\n",
        "    for a, b, r in strong_pairs[:25]:  # print top 25 pairs\n",
        "        print(f\"{a}  ~  {b}:  r={r:.3f}\")\n",
        "else:\n",
        "    print(\"No pairs above threshold.\")\n",
        "print()\n",
        "\n",
        "# 7) Univariate relevance (optional but handy)\n",
        "#    ANOVA F and Mutual Information against the binary label\n",
        "print(\"=== Univariate relevance to target ===\")\n",
        "# Replace any remaining NaNs with 0 safely for these scorers\n",
        "X_filled = X.fillna(0.0).values\n",
        "f_vals, f_p = f_classif(X_filled, y_bin)\n",
        "mi_vals = mutual_info_classif(X_filled, y_bin, discrete_features=False, random_state=80)\n",
        "\n",
        "uni_df = pd.DataFrame({\n",
        "    'feature': feature_cols,\n",
        "    'F_value': f_vals,\n",
        "    'F_pvalue': f_p,\n",
        "    'MI': mi_vals\n",
        "}).sort_values(['F_value', 'MI'], ascending=False)\n",
        "\n",
        "print(uni_df.head(20).round(4))"
      ],
      "metadata": {
        "colab": {
          "base_uri": "https://localhost:8080/"
        },
        "id": "RXl4ibvzscEk",
        "outputId": "e377a57e-bed1-4b43-e8bb-6a3439fcd27d"
      },
      "execution_count": null,
      "outputs": [
        {
          "output_type": "stream",
          "name": "stdout",
          "text": [
            "=== Dataset shape ===\n",
            "(4601, 58)\n",
            "\n",
            "=== Class distribution ===\n",
            "       count  percent\n",
            "class                \n",
            "0       2788     60.6\n",
            "1       1813     39.4\n",
            "\n",
            "=== Null values ===\n",
            "No missing values \n",
            "\n",
            "=== Descriptive statistics ===\n",
            "       word_freq_make  word_freq_address  word_freq_all  word_freq_3d  \\\n",
            "count     4601.000000        4601.000000    4601.000000   4601.000000   \n",
            "mean         0.104553           0.213015       0.280656      0.065425   \n",
            "std          0.305358           1.290575       0.504143      1.395151   \n",
            "min          0.000000           0.000000       0.000000      0.000000   \n",
            "25%          0.000000           0.000000       0.000000      0.000000   \n",
            "50%          0.000000           0.000000       0.000000      0.000000   \n",
            "75%          0.000000           0.000000       0.420000      0.000000   \n",
            "max          4.540000          14.280000       5.100000     42.810000   \n",
            "\n",
            "       word_freq_our  word_freq_over  word_freq_remove  word_freq_internet  \\\n",
            "count    4601.000000     4601.000000       4601.000000         4601.000000   \n",
            "mean        0.312223        0.095901          0.114208            0.105295   \n",
            "std         0.672513        0.273824          0.391441            0.401071   \n",
            "min         0.000000        0.000000          0.000000            0.000000   \n",
            "25%         0.000000        0.000000          0.000000            0.000000   \n",
            "50%         0.000000        0.000000          0.000000            0.000000   \n",
            "75%         0.380000        0.000000          0.000000            0.000000   \n",
            "max        10.000000        5.880000          7.270000           11.110000   \n",
            "\n",
            "       word_freq_order  word_freq_mail  ...  char_freq_;  char_freq_(  \\\n",
            "count      4601.000000     4601.000000  ...  4601.000000  4601.000000   \n",
            "mean          0.090067        0.239413  ...     0.038575     0.139030   \n",
            "std           0.278616        0.644755  ...     0.243471     0.270355   \n",
            "min           0.000000        0.000000  ...     0.000000     0.000000   \n",
            "25%           0.000000        0.000000  ...     0.000000     0.000000   \n",
            "50%           0.000000        0.000000  ...     0.000000     0.065000   \n",
            "75%           0.000000        0.160000  ...     0.000000     0.188000   \n",
            "max           5.260000       18.180000  ...     4.385000     9.752000   \n",
            "\n",
            "       char_freq_[  char_freq_!  char_freq_$  char_freq_#  \\\n",
            "count  4601.000000  4601.000000  4601.000000  4601.000000   \n",
            "mean      0.016976     0.269071     0.075811     0.044238   \n",
            "std       0.109394     0.815672     0.245882     0.429342   \n",
            "min       0.000000     0.000000     0.000000     0.000000   \n",
            "25%       0.000000     0.000000     0.000000     0.000000   \n",
            "50%       0.000000     0.000000     0.000000     0.000000   \n",
            "75%       0.000000     0.315000     0.052000     0.000000   \n",
            "max       4.081000    32.478000     6.003000    19.829000   \n",
            "\n",
            "       capital_run_length_average  capital_run_length_longest  \\\n",
            "count                 4601.000000                 4601.000000   \n",
            "mean                     5.191515                   52.172789   \n",
            "std                     31.729449                  194.891310   \n",
            "min                      1.000000                    1.000000   \n",
            "25%                      1.588000                    6.000000   \n",
            "50%                      2.276000                   15.000000   \n",
            "75%                      3.706000                   43.000000   \n",
            "max                   1102.500000                 9989.000000   \n",
            "\n",
            "       capital_run_length_total        class  \n",
            "count               4601.000000  4601.000000  \n",
            "mean                 283.289285     0.394045  \n",
            "std                  606.347851     0.488698  \n",
            "min                    1.000000     0.000000  \n",
            "25%                   35.000000     0.000000  \n",
            "50%                   95.000000     0.000000  \n",
            "75%                  266.000000     1.000000  \n",
            "max                15841.000000     1.000000  \n",
            "\n",
            "[8 rows x 58 columns]\n",
            "=== Feature skewness ===\n",
            "char_freq_#                   31.0621\n",
            "capital_run_length_longest    30.7650\n",
            "word_freq_parts               28.2632\n",
            "word_freq_3d                  26.2277\n",
            "capital_run_length_average    23.7619\n",
            "char_freq_[                   21.0835\n",
            "word_freq_table               19.8677\n",
            "word_freq_conference          19.7204\n",
            "word_freq_project             18.7715\n",
            "char_freq_!                   18.6580\n",
            "word_freq_85                  15.2308\n",
            "word_freq_money               14.6870\n",
            "word_freq_credit              14.6026\n",
            "char_freq_;                   13.7086\n",
            "char_freq_(                   13.5838\n",
            "word_freq_data                13.1901\n",
            "word_freq_telnet              12.6691\n",
            "word_freq_cs                  12.5879\n",
            "word_freq_pm                  12.0569\n",
            "word_freq_report              11.7546\n",
            "word_freq_lab                 11.3702\n",
            "char_freq_$                   11.1631\n",
            "word_freq_free                10.7636\n",
            "word_freq_857                 10.5492\n",
            "word_freq_415                 10.4752\n",
            "word_freq_edu                 10.1227\n",
            "word_freq_address             10.0868\n",
            "word_freq_font                 9.9754\n",
            "word_freq_internet             9.7248\n",
            "word_freq_meeting              9.4558\n",
            "word_freq_direct               9.1470\n",
            "word_freq_re                   9.1461\n",
            "capital_run_length_total       8.7099\n",
            "word_freq_mail                 8.4878\n",
            "word_freq_technology           7.6735\n",
            "word_freq_original             7.6292\n",
            "word_freq_addresses            6.9710\n",
            "word_freq_people               6.9555\n",
            "word_freq_remove               6.7656\n",
            "word_freq_labs                 6.6360\n",
            "word_freq_650                  6.6065\n",
            "word_freq_hpl                  6.3500\n",
            "word_freq_over                 5.9570\n",
            "word_freq_george               5.7445\n",
            "word_freq_hp                   5.7168\n",
            "word_freq_000                  5.7138\n",
            "word_freq_business             5.6886\n",
            "word_freq_make                 5.6756\n",
            "word_freq_receive              5.5103\n",
            "word_freq_email                5.4138\n",
            "word_freq_1999                 5.3235\n",
            "word_freq_order                5.2261\n",
            "word_freq_our                  4.7471\n",
            "word_freq_all                  3.0092\n",
            "word_freq_will                 2.8674\n",
            "word_freq_your                 2.4355\n",
            "word_freq_you                  1.5917\n",
            "class                          0.4338\n",
            "dtype: float64 \n",
            "\n",
            "=== Top features correlated with target (absolute) ===\n",
            "class                       1.0000\n",
            "word_freq_your              0.3832\n",
            "word_freq_000               0.3348\n",
            "word_freq_remove            0.3321\n",
            "char_freq_$                 0.3236\n",
            "word_freq_you               0.2737\n",
            "word_freq_free              0.2632\n",
            "word_freq_business          0.2632\n",
            "word_freq_hp                0.2567\n",
            "capital_run_length_total    0.2492\n",
            "word_freq_our               0.2419\n",
            "char_freq_!                 0.2419\n",
            "word_freq_receive           0.2345\n",
            "word_freq_hpl               0.2330\n",
            "word_freq_over              0.2326\n",
            "Name: point_biserial_corr, dtype: float64 \n",
            "\n",
            "=== Strong inter-feature correlations (|r| >= 0.85) ===\n",
            "word_freq_857  ~  word_freq_415:  r=0.996\n",
            "\n",
            "=== Univariate relevance to target ===\n"
          ]
        },
        {
          "output_type": "stream",
          "name": "stderr",
          "text": [
            "/usr/local/lib/python3.12/dist-packages/sklearn/feature_selection/_univariate_selection.py:112: RuntimeWarning: divide by zero encountered in divide\n",
            "  f = msb / msw\n"
          ]
        },
        {
          "output_type": "stream",
          "name": "stdout",
          "text": [
            "                       feature   F_value  F_pvalue      MI\n",
            "57                       class       inf       0.0  0.6708\n",
            "20              word_freq_your  791.7260       0.0  0.1623\n",
            "22               word_freq_000  580.5345       0.0  0.1043\n",
            "6             word_freq_remove  570.1696       0.0  0.1491\n",
            "52                 char_freq_$  538.0299       0.0  0.1979\n",
            "18               word_freq_you  372.2740       0.0  0.1001\n",
            "15              word_freq_free  342.3462       0.0  0.1361\n",
            "16          word_freq_business  342.3163       0.0  0.0633\n",
            "24                word_freq_hp  324.4908       0.0  0.1062\n",
            "56    capital_run_length_total  304.4177       0.0  0.1418\n",
            "4                word_freq_our  285.8907       0.0  0.0897\n",
            "51                 char_freq_!  285.8102       0.0  0.2100\n",
            "10           word_freq_receive  267.6872       0.0  0.0666\n",
            "25               word_freq_hpl  263.9304       0.0  0.0732\n",
            "5               word_freq_over  263.0606       0.0  0.0616\n",
            "8              word_freq_order  260.5499       0.0  0.0553\n",
            "23             word_freq_money  225.3146       0.0  0.1237\n",
            "55  capital_run_length_longest  225.2833       0.0  0.1921\n",
            "7           word_freq_internet  205.4867       0.0  0.0747\n",
            "17             word_freq_email  200.1283       0.0  0.0634\n"
          ]
        }
      ]
    },
    {
      "cell_type": "markdown",
      "source": [
        "# *Determine feature importance using a Variance Threshold, followed by splitting the data for training and testing*"
      ],
      "metadata": {
        "id": "TWwfOR12BSP4"
      }
    },
    {
      "cell_type": "code",
      "source": [
        "from sklearn.model_selection import train_test_split\n",
        "from sklearn.feature_selection import VarianceThreshold\n",
        "\n",
        "x = df.drop(columns=['class', 'word_freq_415']) # Use all features to train model\n",
        "y = df['class'] # \"quality\" is our target\n",
        "\n",
        "selector = VarianceThreshold(threshold=0.8)  # Ran several times to tune\n",
        "x_reduced = selector.fit_transform(x)\n",
        "\n",
        "# Get the mask of selected features\n",
        "mask = selector.get_support()\n",
        "\n",
        "# Get the feature names that remain\n",
        "selected_features = x.columns[mask]\n",
        "\n",
        "print(f\"Number of selected features: {len(selected_features)}\")\n",
        "print(\"Selected features:\")\n",
        "for f in selected_features:\n",
        "    print(f)\n",
        "\n",
        "# Put back into DataFrame so we can save the split data as text files if need be\n",
        "X_reduced = pd.DataFrame(pd.DataFrame(x_reduced, columns=selected_features, index=X.index))\n",
        "\n",
        "# Split the data into training and testing sets\n",
        "x_train, x_test, y_train, y_test = train_test_split(X_reduced,  y, stratify=y, test_size=0.2, random_state=5)\n"
      ],
      "metadata": {
        "id": "aZ6CjN6N9kiW",
        "colab": {
          "base_uri": "https://localhost:8080/"
        },
        "outputId": "e9d2c257-3083-4aa7-a7fd-bf610d72db70"
      },
      "execution_count": null,
      "outputs": [
        {
          "output_type": "stream",
          "name": "stdout",
          "text": [
            "Number of selected features: 12\n",
            "Selected features:\n",
            "word_freq_address\n",
            "word_freq_3d\n",
            "word_freq_you\n",
            "word_freq_your\n",
            "word_freq_font\n",
            "word_freq_hp\n",
            "word_freq_george\n",
            "word_freq_re\n",
            "word_freq_edu\n",
            "capital_run_length_average\n",
            "capital_run_length_longest\n",
            "capital_run_length_total\n",
            "1618    1\n",
            "3446    0\n",
            "2235    0\n",
            "4398    0\n",
            "3620    0\n",
            "       ..\n",
            "1215    1\n",
            "2573    0\n",
            "2863    0\n",
            "579     1\n",
            "4327    0\n",
            "Name: class, Length: 921, dtype: int64\n"
          ]
        }
      ]
    },
    {
      "cell_type": "markdown",
      "source": [
        "# *Create a pipeline as a base, using Logistic Regression*"
      ],
      "metadata": {
        "id": "uuv70CuazYzB"
      }
    },
    {
      "cell_type": "code",
      "source": [
        "from imblearn.pipeline import Pipeline\n",
        "from imblearn.over_sampling import SMOTE\n",
        "from sklearn.preprocessing import StandardScaler\n",
        "from sklearn.linear_model import LogisticRegression\n",
        "from sklearn.metrics import accuracy_score, classification_report\n",
        "\n",
        "# Pipeline: SMOTE -> Scale -> Logistic Regression\n",
        "pipe = Pipeline(steps=[\n",
        "    (\"smote\", SMOTE(random_state=65, k_neighbors=2)),\n",
        "    (\"scaler\", StandardScaler()),\n",
        "    (\"clf\", LogisticRegression(\n",
        "        C=100.0,\n",
        "        penalty=\"l1\",\n",
        "        solver=\"saga\",\n",
        "        tol=0.001,\n",
        "        warm_start=True,\n",
        "        max_iter=2000\n",
        "    ))\n",
        "])\n",
        "\n",
        "pipe.fit(x_train, y_train)\n",
        "\n",
        "# Perform predictions and evaluate results\n",
        "y_pred = pipe.predict(x_test)\n",
        "print(f\"Accuracy: {accuracy_score(y_test, y_pred)}\")\n",
        "print(f\"Classification report:\\n{classification_report(y_test, y_pred)}\")\n"
      ],
      "metadata": {
        "id": "11zslhR6zeYE",
        "colab": {
          "base_uri": "https://localhost:8080/"
        },
        "outputId": "5452eec2-0d8b-4757-9c69-225451c23d2e"
      },
      "execution_count": null,
      "outputs": [
        {
          "output_type": "stream",
          "name": "stdout",
          "text": [
            "Accuracy: 0.8599348534201955\n",
            "Classification report:\n",
            "              precision    recall  f1-score   support\n",
            "\n",
            "           0       0.91      0.85      0.88       558\n",
            "           1       0.79      0.88      0.83       363\n",
            "\n",
            "    accuracy                           0.86       921\n",
            "   macro avg       0.85      0.86      0.86       921\n",
            "weighted avg       0.87      0.86      0.86       921\n",
            "\n"
          ]
        }
      ]
    },
    {
      "cell_type": "markdown",
      "source": [
        "# *Set up different models*"
      ],
      "metadata": {
        "id": "4N9hiw3iM7Lb"
      }
    },
    {
      "cell_type": "code",
      "source": [
        "from sklearn.svm import SVC\n",
        "from sklearn.ensemble import RandomForestClassifier, GradientBoostingClassifier\n",
        "from sklearn.neighbors import KNeighborsClassifier\n",
        "from sklearn.tree import DecisionTreeClassifier\n",
        "from xgboost import XGBClassifier\n",
        "from sklearn.model_selection import StratifiedKFold\n",
        "\n",
        "models = {\n",
        "    'logreg': LogisticRegression(max_iter=1000, n_jobs=None),\n",
        "    'svc': SVC(probability=True),\n",
        "    'knn': KNeighborsClassifier(n_neighbors=15),  # tune k\n",
        "    'dt': DecisionTreeClassifier(random_state=37),\n",
        "    'rf': RandomForestClassifier(n_estimators=300, random_state=5, n_jobs=-1),\n",
        "    'gb': GradientBoostingClassifier(random_state=99),\n",
        "    'xgb': XGBClassifier(\n",
        "        n_estimators=400,\n",
        "        learning_rate=0.1,\n",
        "        max_depth=6,\n",
        "        subsample=0.9,\n",
        "        colsample_bytree=0.9,\n",
        "        eval_metric='logloss',\n",
        "        random_state=73,\n",
        "        n_jobs=-1\n",
        "    ),\n",
        "}\n",
        "\n",
        "cv = StratifiedKFold(n_splits=5, shuffle=True, random_state=60)\n"
      ],
      "metadata": {
        "id": "C4Y_Wnomfo9l"
      },
      "execution_count": null,
      "outputs": []
    },
    {
      "cell_type": "markdown",
      "source": [
        "# *Now compare accuracies*"
      ],
      "metadata": {
        "id": "srylh696MQW2"
      }
    },
    {
      "cell_type": "code",
      "source": [
        "from sklearn.model_selection import cross_val_score\n",
        "from sklearn.base import clone\n",
        "\n",
        "results = {}\n",
        "for name, model in models.items():\n",
        "    temp_pipe = clone(pipe)\n",
        "    temp_pipe.set_params(clf=model)\n",
        "    scores = cross_val_score(temp_pipe, x, y, cv=cv, scoring='accuracy', n_jobs=-1)\n",
        "    results[name] = (scores.mean(), scores.std())\n",
        "\n",
        "for name, (mean, std) in results.items():\n",
        "    print(f\"{name:10s} | Accuracy: {mean:.4f} | Std: {std:.4f}\")"
      ],
      "metadata": {
        "colab": {
          "base_uri": "https://localhost:8080/"
        },
        "id": "gWZPxKJ9hjrq",
        "outputId": "15c47caa-3224-4d82-f6ad-01e77acc476a"
      },
      "execution_count": null,
      "outputs": [
        {
          "output_type": "stream",
          "name": "stdout",
          "text": [
            "logreg     | Accuracy: 0.9265 | Std: 0.0061\n",
            "svc        | Accuracy: 0.9350 | Std: 0.0056\n",
            "knn        | Accuracy: 0.9055 | Std: 0.0117\n",
            "dt         | Accuracy: 0.9072 | Std: 0.0088\n",
            "rf         | Accuracy: 0.9541 | Std: 0.0046\n",
            "gb         | Accuracy: 0.9428 | Std: 0.0041\n",
            "xgb        | Accuracy: 0.9524 | Std: 0.0065\n"
          ]
        }
      ]
    },
    {
      "cell_type": "markdown",
      "source": [
        "# *Used RandomForest model as it had the best accuracy. Tuning hyperparameters*"
      ],
      "metadata": {
        "id": "x-2NL0v1TE9w"
      }
    },
    {
      "cell_type": "code",
      "source": [
        "from sklearn.model_selection import RandomizedSearchCV\n",
        "from scipy.stats import randint, uniform\n",
        "\n",
        "pipe = Pipeline([\n",
        "    # drop StandardScaler for RF; it doesn't need scaling\n",
        "    ('smote', SMOTE(random_state=42)),\n",
        "    ('rfc', RandomForestClassifier(random_state=86, n_jobs=-1))\n",
        "])\n",
        "\n",
        "cv = StratifiedKFold(n_splits=5, shuffle=True, random_state=18)\n",
        "\n",
        "# --- Broad randomized search (fast) ---\n",
        "param_distributions = {\n",
        "    'rfc__n_estimators': randint(200, 800),\n",
        "    'rfc__max_depth': randint(4, 30),               # or None (handled below)\n",
        "    'rfc__min_samples_split': randint(2, 20),\n",
        "    'rfc__min_samples_leaf': randint(1, 20),\n",
        "    'rfc__max_features': ['sqrt', 'log2', 0.2, 0.5],# try fractions too\n",
        "    'rfc__bootstrap': [True, False],\n",
        "    'rfc__class_weight': [None, 'balanced']         # with SMOTE, usually None\n",
        "}\n",
        "\n",
        "search = RandomizedSearchCV(\n",
        "    pipe, param_distributions=param_distributions,\n",
        "    n_iter=60, scoring='f1_macro', cv=cv, n_jobs=-1, random_state=21, verbose=1\n",
        ")\n",
        "search.fit(X, y)\n",
        "\n",
        "best_model = search.best_estimator_\n",
        "print(\"Best params:\", search.best_params_)\n",
        "print(\"Best CV f1_macro:\", search.best_score_)"
      ],
      "metadata": {
        "colab": {
          "base_uri": "https://localhost:8080/"
        },
        "id": "nvNTey1OLeRT",
        "outputId": "0178021a-0f6b-4528-8631-32e27b917cd6"
      },
      "execution_count": null,
      "outputs": [
        {
          "output_type": "stream",
          "name": "stdout",
          "text": [
            "Fitting 5 folds for each of 60 candidates, totalling 300 fits\n",
            "Best params: {'rfc__bootstrap': False, 'rfc__class_weight': None, 'rfc__max_depth': 6, 'rfc__max_features': 0.5, 'rfc__min_samples_leaf': 18, 'rfc__min_samples_split': 12, 'rfc__n_estimators': 647}\n",
            "Best CV f1_macro: 1.0\n"
          ]
        }
      ]
    },
    {
      "cell_type": "markdown",
      "source": [
        "# *Fit the final model*"
      ],
      "metadata": {
        "id": "Xacg8a73i3FC"
      }
    },
    {
      "cell_type": "code",
      "source": [
        "final_model = Pipeline([\n",
        "    # drop StandardScaler for RF; it doesn't need scaling\n",
        "    ('smote', SMOTE(random_state=42)),\n",
        "    ('rfc', RandomForestClassifier(n_estimators = 647,\n",
        "                                   bootstrap = False,\n",
        "                                   class_weight = None,\n",
        "                                   max_depth = 6,\n",
        "                                   max_features = 0.5,\n",
        "                                   min_samples_leaf = 18,\n",
        "                                   min_samples_split = 12,\n",
        "                                   random_state=86,\n",
        "                                   n_jobs=-1))\n",
        "    ])\n",
        "\n",
        "final_model.fit(x_train, y_train)\n",
        "\n",
        "# Perform predictions and evaluate results\n",
        "y_pred = final_model.predict(x_test)\n",
        "print(f\"Accuracy: {accuracy_score(y_test, y_pred)}\")\n",
        "print(f\"Classification report:\\n{classification_report(y_test, y_pred)}\")"
      ],
      "metadata": {
        "colab": {
          "base_uri": "https://localhost:8080/"
        },
        "id": "0TjLhQjni6JG",
        "outputId": "b64c9ca1-12b0-4997-a3c9-7e399f0a5b17"
      },
      "execution_count": null,
      "outputs": [
        {
          "output_type": "stream",
          "name": "stdout",
          "text": [
            "Accuracy: 0.9055374592833876\n",
            "Classification report:\n",
            "              precision    recall  f1-score   support\n",
            "\n",
            "           0       0.92      0.92      0.92       558\n",
            "           1       0.88      0.88      0.88       363\n",
            "\n",
            "    accuracy                           0.91       921\n",
            "   macro avg       0.90      0.90      0.90       921\n",
            "weighted avg       0.91      0.91      0.91       921\n",
            "\n"
          ]
        }
      ]
    },
    {
      "cell_type": "markdown",
      "source": [
        "# *Save the final model as a Pickle file*"
      ],
      "metadata": {
        "id": "ZC77w_8al1S5"
      }
    },
    {
      "cell_type": "code",
      "source": [
        "import pickle\n",
        "\n",
        "# Save the model to a pickle file\n",
        "with open('final_model.pkl', 'wb') as f:\n",
        "  pickle.dump(final_model, f)\n",
        "\n",
        "# Download all pickle files\n",
        "files.download(\"final_model.pkl\")"
      ],
      "metadata": {
        "id": "bQdfSF1Uf1xG",
        "colab": {
          "base_uri": "https://localhost:8080/",
          "height": 17
        },
        "outputId": "960fba73-20ed-4838-aded-1df435a08374"
      },
      "execution_count": null,
      "outputs": [
        {
          "output_type": "display_data",
          "data": {
            "text/plain": [
              "<IPython.core.display.Javascript object>"
            ],
            "application/javascript": [
              "\n",
              "    async function download(id, filename, size) {\n",
              "      if (!google.colab.kernel.accessAllowed) {\n",
              "        return;\n",
              "      }\n",
              "      const div = document.createElement('div');\n",
              "      const label = document.createElement('label');\n",
              "      label.textContent = `Downloading \"${filename}\": `;\n",
              "      div.appendChild(label);\n",
              "      const progress = document.createElement('progress');\n",
              "      progress.max = size;\n",
              "      div.appendChild(progress);\n",
              "      document.body.appendChild(div);\n",
              "\n",
              "      const buffers = [];\n",
              "      let downloaded = 0;\n",
              "\n",
              "      const channel = await google.colab.kernel.comms.open(id);\n",
              "      // Send a message to notify the kernel that we're ready.\n",
              "      channel.send({})\n",
              "\n",
              "      for await (const message of channel.messages) {\n",
              "        // Send a message to notify the kernel that we're ready.\n",
              "        channel.send({})\n",
              "        if (message.buffers) {\n",
              "          for (const buffer of message.buffers) {\n",
              "            buffers.push(buffer);\n",
              "            downloaded += buffer.byteLength;\n",
              "            progress.value = downloaded;\n",
              "          }\n",
              "        }\n",
              "      }\n",
              "      const blob = new Blob(buffers, {type: 'application/binary'});\n",
              "      const a = document.createElement('a');\n",
              "      a.href = window.URL.createObjectURL(blob);\n",
              "      a.download = filename;\n",
              "      div.appendChild(a);\n",
              "      a.click();\n",
              "      div.remove();\n",
              "    }\n",
              "  "
            ]
          },
          "metadata": {}
        },
        {
          "output_type": "display_data",
          "data": {
            "text/plain": [
              "<IPython.core.display.Javascript object>"
            ],
            "application/javascript": [
              "download(\"download_02d9c4bd-9650-443b-8d99-f50d706ae41a\", \"final_model.pkl\", 4121558)"
            ]
          },
          "metadata": {}
        }
      ]
    },
    {
      "cell_type": "markdown",
      "source": [
        "# *Save the test data to a text file so a user can choose a row of values to enter on an HTML page*"
      ],
      "metadata": {
        "id": "HBhtcZRioMi2"
      }
    },
    {
      "cell_type": "code",
      "source": [
        "# Convert the numpy array y_test to a pandas DataFrame\n",
        "df_y = y_test.to_frame()\n",
        "\n",
        "# Combine them\n",
        "test_set = pd.concat([x_test, df_y], axis=1)\n",
        "\n",
        "# Save as tab-delimited\n",
        "test_set.to_csv(\"x_test_with_labels.txt\", sep=\"\\t\", index=False)\n",
        "files.download(\"x_test_with_labels.txt\")"
      ],
      "metadata": {
        "colab": {
          "base_uri": "https://localhost:8080/",
          "height": 17
        },
        "id": "HCe5YG2_oflD",
        "outputId": "6a94cfca-90f9-432f-8e56-ce2e8159dcdd"
      },
      "execution_count": null,
      "outputs": [
        {
          "output_type": "display_data",
          "data": {
            "text/plain": [
              "<IPython.core.display.Javascript object>"
            ],
            "application/javascript": [
              "\n",
              "    async function download(id, filename, size) {\n",
              "      if (!google.colab.kernel.accessAllowed) {\n",
              "        return;\n",
              "      }\n",
              "      const div = document.createElement('div');\n",
              "      const label = document.createElement('label');\n",
              "      label.textContent = `Downloading \"${filename}\": `;\n",
              "      div.appendChild(label);\n",
              "      const progress = document.createElement('progress');\n",
              "      progress.max = size;\n",
              "      div.appendChild(progress);\n",
              "      document.body.appendChild(div);\n",
              "\n",
              "      const buffers = [];\n",
              "      let downloaded = 0;\n",
              "\n",
              "      const channel = await google.colab.kernel.comms.open(id);\n",
              "      // Send a message to notify the kernel that we're ready.\n",
              "      channel.send({})\n",
              "\n",
              "      for await (const message of channel.messages) {\n",
              "        // Send a message to notify the kernel that we're ready.\n",
              "        channel.send({})\n",
              "        if (message.buffers) {\n",
              "          for (const buffer of message.buffers) {\n",
              "            buffers.push(buffer);\n",
              "            downloaded += buffer.byteLength;\n",
              "            progress.value = downloaded;\n",
              "          }\n",
              "        }\n",
              "      }\n",
              "      const blob = new Blob(buffers, {type: 'application/binary'});\n",
              "      const a = document.createElement('a');\n",
              "      a.href = window.URL.createObjectURL(blob);\n",
              "      a.download = filename;\n",
              "      div.appendChild(a);\n",
              "      a.click();\n",
              "      div.remove();\n",
              "    }\n",
              "  "
            ]
          },
          "metadata": {}
        },
        {
          "output_type": "display_data",
          "data": {
            "text/plain": [
              "<IPython.core.display.Javascript object>"
            ],
            "application/javascript": [
              "download(\"download_f6666f01-946d-4ded-9937-a7849c3824f8\", \"x_test_with_labels.txt\", 51618)"
            ]
          },
          "metadata": {}
        }
      ]
    }
  ]
}